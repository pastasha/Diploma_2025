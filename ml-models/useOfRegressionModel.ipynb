{
 "cells": [
  {
   "cell_type": "code",
   "execution_count": 135,
   "metadata": {},
   "outputs": [],
   "source": [
    "import os\n",
    "import numpy as np\n",
    "import pandas as pd\n",
    "import pickle\n",
    "from sklearn.preprocessing import LabelEncoder\n",
    "from sklearn.metrics import mean_squared_error, mean_absolute_error, r2_score\n",
    "from sklearn.preprocessing import MinMaxScaler\n",
    "import warnings\n",
    "\n",
    "warnings.filterwarnings('ignore')"
   ]
  },
  {
   "cell_type": "code",
   "execution_count": 136,
   "metadata": {},
   "outputs": [],
   "source": [
    "# Loading a serialized model\n",
    "with open('regression/serialized/decisionTreeModel.pkl', 'rb') as file:\n",
    "    model = pickle.load(file)"
   ]
  },
  {
   "cell_type": "code",
   "execution_count": 137,
   "metadata": {},
   "outputs": [],
   "source": [
    "# New dataset for forecasting\n",
    "data = {\n",
    "    'Location': [\"ITO, Delhi\", \"Mumbai\"],\n",
    "    'Year': [2023, 2023],\n",
    "    'Month': [2, 3],\n",
    "    'Day': [16, 23],\n",
    "    'Hour': [14, 17],\n",
    "    'AQI': [268, 47],\n",
    "    'PM2.5': [401, 14],\n",
    "    'PM10': [325, 41],\n",
    "    'O3': [73, 35],\n",
    "    'CO': [88, 6],\n",
    "    'SO2': [16, 5],\n",
    "    'NO2': [np.nan, 7]  # Додано пропущене значення для тесту\n",
    "}\n",
    "\n",
    "data = pd.DataFrame(data)\n",
    "y_true = data['AQI']  # Фактичні значення AQI\n",
    "new_data = data[['Year', 'Month', 'Day', 'Hour', 'PM2.5', 'PM10', 'O3', 'CO', 'SO2', 'NO2']].copy()"
   ]
  },
  {
   "cell_type": "code",
   "execution_count": 138,
   "metadata": {},
   "outputs": [],
   "source": [
    "# Label encoding\n",
    "le = LabelEncoder()\n",
    "new_data['Hour'] = le.fit_transform(new_data['Hour'])\n",
    "\n",
    "# Data preprocessing\n",
    "new_data.fillna(new_data.mean(), inplace=True)  # Заповнення пропущених значень середніми\n",
    "\n",
    "# Convert hours to numeric format\n",
    "new_data['Hour'] = new_data['Hour'].astype(str).str.split(\":\").str[0].astype(int)\n",
    "\n",
    "# Feature selection\n",
    "X_new = new_data[['Year', 'Month', 'Day', 'Hour', 'PM2.5', 'PM10', 'O3', 'CO', 'SO2', 'NO2']]"
   ]
  },
  {
   "cell_type": "code",
   "execution_count": 139,
   "metadata": {},
   "outputs": [],
   "source": [
    "# Data scaling (as in the training model)\n",
    "scaler = MinMaxScaler()\n",
    "X_new_scaled = scaler.fit_transform(X_new)"
   ]
  },
  {
   "cell_type": "code",
   "execution_count": 140,
   "metadata": {},
   "outputs": [
    {
     "name": "stdout",
     "output_type": "stream",
     "text": [
      "[3.22641509 4.77464789]\n"
     ]
    }
   ],
   "source": [
    "# Prognostication\n",
    "predictions = model.predict(new_data)\n",
    "\n",
    "print(predictions)"
   ]
  },
  {
   "cell_type": "code",
   "execution_count": 141,
   "metadata": {},
   "outputs": [
    {
     "name": "stdout",
     "output_type": "stream",
     "text": [
      "MSE: 35944.02\n",
      "RMSE: 189.59\n",
      "MAE: 153.50\n",
      "R2 Score: -1.94\n"
     ]
    }
   ],
   "source": [
    "# Metrics evaluation\n",
    "mse = mean_squared_error(y_true, predictions)\n",
    "rmse = np.sqrt(mse)\n",
    "mae = mean_absolute_error(y_true, predictions)\n",
    "r2 = r2_score(y_true, predictions)\n",
    "\n",
    "print(f\"MSE: {mse:.2f}\")\n",
    "print(f\"RMSE: {rmse:.2f}\")\n",
    "print(f\"MAE: {mae:.2f}\")\n",
    "print(f\"R2 Score: {r2:.2f}\")"
   ]
  }
 ],
 "metadata": {
  "kernelspec": {
   "display_name": "3.11.0",
   "language": "python",
   "name": "python3"
  },
  "language_info": {
   "codemirror_mode": {
    "name": "ipython",
    "version": 3
   },
   "file_extension": ".py",
   "mimetype": "text/x-python",
   "name": "python",
   "nbconvert_exporter": "python",
   "pygments_lexer": "ipython3",
   "version": "3.11.0"
  }
 },
 "nbformat": 4,
 "nbformat_minor": 2
}
