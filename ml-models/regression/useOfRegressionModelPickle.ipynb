{
 "cells": [
  {
   "cell_type": "code",
   "execution_count": 1,
   "metadata": {},
   "outputs": [],
   "source": [
    "import pandas as pd\n",
    "import pickle\n",
    "from sklearn.preprocessing import LabelEncoder\n",
    "from sklearn.preprocessing import MinMaxScaler\n",
    "import warnings\n",
    "\n",
    "warnings.filterwarnings('ignore')"
   ]
  },
  {
   "cell_type": "code",
   "execution_count": 2,
   "metadata": {},
   "outputs": [],
   "source": [
    "pickleModels = {\n",
    "    'XGBoost': 'serialized/XGBoostModel.pkl',\n",
    "    'decisionTree': 'serialized/decisionTreeModel.pkl',\n",
    "    'randomForest': 'serialized/randomForestModel.pkl'\n",
    "}\n",
    "\n",
    "# Loading a serialized model\n",
    "with open(pickleModels['randomForest'], 'rb') as file:\n",
    "    model = pickle.load(file)"
   ]
  },
  {
   "cell_type": "code",
   "execution_count": 3,
   "metadata": {},
   "outputs": [],
   "source": [
    "# New dataset for forecasting\n",
    "data = {\n",
    "    'Location': [\"ITO, Delhi\", \"Mumbai\"],\n",
    "    'Year': [2023, 2023],\n",
    "    'Month': [2, 3],\n",
    "    'Day': [16, 23],\n",
    "    'Hour': ['14;00', '17:40'],\n",
    "#   'AQI': [268, 47],\n",
    "    'PM2.5': [43, 500],\n",
    "    'PM10': [78, 480],\n",
    "    'O3': [26, 91],\n",
    "    'CO': [258, 78],\n",
    "    'SO2': [10, 17],\n",
    "    'NO2': [17, 47]  # Додано пропущене значення для тесту\n",
    "}\n",
    "\n",
    "data = pd.DataFrame(data)\n",
    "#y_true = data['AQI']  # Фактичні значення AQI\n",
    "new_data = data[['Location', 'Day', 'Hour', 'PM2.5', 'PM10', 'O3', 'CO', 'SO2', 'NO2']].copy()"
   ]
  },
  {
   "cell_type": "code",
   "execution_count": 4,
   "metadata": {},
   "outputs": [],
   "source": [
    "# Label encoding\n",
    "le = LabelEncoder()\n",
    "new_data['Location'] = le.fit_transform(new_data['Location'])\n",
    "new_data['Hour'] = le.fit_transform(new_data['Hour'])\n",
    "\n",
    "# Data preprocessing\n",
    "new_data.fillna(new_data.mean(), inplace=True)  # Заповнення пропущених значень середніми\n",
    "\n",
    "# Convert hours to numeric format\n",
    "new_data['Hour'] = new_data['Hour'].astype(str).str.split(\":\").str[0].astype(int)\n",
    "\n",
    "# Feature selection\n",
    "X_new = new_data[['Location', 'Day', 'Hour', 'PM2.5', 'PM10', 'O3', 'CO', 'SO2', 'NO2']]"
   ]
  },
  {
   "cell_type": "code",
   "execution_count": 5,
   "metadata": {},
   "outputs": [],
   "source": [
    "# Data scaling (as in the training model)\n",
    "scaler = MinMaxScaler()\n",
    "X_new_scaled = scaler.fit_transform(X_new)"
   ]
  },
  {
   "cell_type": "code",
   "execution_count": 6,
   "metadata": {},
   "outputs": [
    {
     "name": "stdout",
     "output_type": "stream",
     "text": [
      "[256.41 205.12]\n"
     ]
    }
   ],
   "source": [
    "# Prognostication\n",
    "predictions = model.predict(new_data)\n",
    "\n",
    "print(predictions)"
   ]
  }
 ],
 "metadata": {
  "kernelspec": {
   "display_name": "3.11.0",
   "language": "python",
   "name": "python3"
  },
  "language_info": {
   "codemirror_mode": {
    "name": "ipython",
    "version": 3
   },
   "file_extension": ".py",
   "mimetype": "text/x-python",
   "name": "python",
   "nbconvert_exporter": "python",
   "pygments_lexer": "ipython3",
   "version": "3.11.0"
  }
 },
 "nbformat": 4,
 "nbformat_minor": 2
}
