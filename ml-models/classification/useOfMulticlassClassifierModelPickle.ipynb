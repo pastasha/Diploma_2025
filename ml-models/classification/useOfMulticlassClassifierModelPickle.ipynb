{
 "cells": [
  {
   "cell_type": "code",
   "execution_count": 139,
   "metadata": {},
   "outputs": [],
   "source": [
    "import pickle\n",
    "import numpy as np\n",
    "import pandas as pd\n",
    "from sklearn.preprocessing import LabelEncoder, MinMaxScaler\n",
    "import warnings\n",
    "\n",
    "warnings.filterwarnings('ignore')"
   ]
  },
  {
   "cell_type": "code",
   "execution_count": 140,
   "metadata": {},
   "outputs": [],
   "source": [
    "pickleModels = {\n",
    "    'XGBoost': 'serialized/XGBoostModel.pkl',\n",
    "    'decisionTree': 'serialized/decisionTreeModel.pkl',\n",
    "    'randomForest': 'serialized/randomForestModel.pkl'\n",
    "}\n",
    "\n",
    "# Loading a serialized model\n",
    "with open(pickleModels['randomForest'], 'rb') as file:\n",
    "    model = pickle.load(file)"
   ]
  },
  {
   "cell_type": "code",
   "execution_count": 141,
   "metadata": {},
   "outputs": [],
   "source": [
    "# New dataset for forecasting\n",
    "data = {\n",
    "    'Location': [\"Bengaluru\", \"ITO, Delhi\", \"New Ind Town, Faridabad\"],\n",
    "    'Year': [2023, 2023, 2022],\n",
    "    'Month': [2, 2, 10],\n",
    "    'Day': [23, 22, 2],\n",
    "    'Hour': [8, 14, 10],\n",
    "    'PM2.5': [43, 500, 185],\n",
    "    'PM10': [78, 480, 199],\n",
    "    'O3': [26, 91, 10],\n",
    "    'CO': [258, 78, 52],\n",
    "    'SO2': [10, 17, 12],\n",
    "    'NO2': [17, 47, 26]\n",
    "}\n",
    "new_data = pd.DataFrame(data)\n",
    "data = pd.DataFrame(data)\n",
    "new_data = data[['Location', 'Day', 'Hour', 'PM2.5', 'PM10', 'O3', 'CO', 'SO2', 'NO2']].copy()"
   ]
  },
  {
   "cell_type": "code",
   "execution_count": 142,
   "metadata": {},
   "outputs": [],
   "source": [
    "# Label encoding\n",
    "le = LabelEncoder()\n",
    "new_data['Location'] = le.fit_transform(new_data['Location'])\n",
    "new_data['Hour'] = le.fit_transform(new_data['Hour'])\n",
    "\n",
    "# Data pre-processing\n",
    "new_data.fillna(new_data.mean(), inplace=True)\n",
    "\n",
    "# Convert hours to numeric format\n",
    "new_data['Hour'] = new_data['Hour'].astype(str).str.split(\":\").str[0].astype(int)\n",
    "\n",
    "# Feature selection\n",
    "X_new = new_data[['Location','Day', 'Hour', 'PM2.5', 'PM10', 'O3', 'CO', 'SO2', 'NO2']]"
   ]
  },
  {
   "cell_type": "code",
   "execution_count": 143,
   "metadata": {},
   "outputs": [],
   "source": [
    "# Data scaling (use the same scaler as during training)\n",
    "scaler = MinMaxScaler()\n",
    "X_new_scaled = scaler.fit_transform(X_new)"
   ]
  },
  {
   "cell_type": "code",
   "execution_count": 144,
   "metadata": {},
   "outputs": [
    {
     "name": "stdout",
     "output_type": "stream",
     "text": [
      "[2 5 3]\n",
      "Input data:\n",
      "   Location  Day  Hour  PM2.5  PM10  O3   CO  SO2  NO2\n",
      "0         0   23     0     43    78  26  258   10   17\n",
      "1         1   22     2    500   480  91   78   17   47\n",
      "2         2    2     1    185   199  10   52   12   26\n",
      "\n",
      "Predicted classes:\n",
      "[2 5 3]\n",
      "\n",
      "Predicted categories:\n",
      "['USG', 'Severe', 'Unhealthy']\n"
     ]
    }
   ],
   "source": [
    "predict_proba = model.predict_proba(X_new_scaled)\n",
    "# Decoding of forecasts (classes)\n",
    "predicted_classes = np.argmax(predict_proba, axis=1)\n",
    "\n",
    "print(predicted_classes)\n",
    "\n",
    "# Displaying categories\n",
    "category_mapping = {\n",
    "    '0': 'Good',\n",
    "    '1': 'Moderate',\n",
    "    '2': 'USG', \n",
    "    '3': 'Unhealthy',\n",
    "    '4': 'Very Unhealthy',\n",
    "    '5': 'Severe'\n",
    "}\n",
    "predicted_categories = [category_mapping[str(cls)] for cls in predicted_classes]\n",
    "\n",
    "print(\"Input data:\")\n",
    "print(X_new)\n",
    "print(\"\\nPredicted classes:\")\n",
    "print(predicted_classes)\n",
    "print(\"\\nPredicted categories:\")\n",
    "print(predicted_categories)"
   ]
  }
 ],
 "metadata": {
  "kernelspec": {
   "display_name": "3.11.0",
   "language": "python",
   "name": "python3"
  },
  "language_info": {
   "codemirror_mode": {
    "name": "ipython",
    "version": 3
   },
   "file_extension": ".py",
   "mimetype": "text/x-python",
   "name": "python",
   "nbconvert_exporter": "python",
   "pygments_lexer": "ipython3",
   "version": "3.11.0"
  }
 },
 "nbformat": 4,
 "nbformat_minor": 2
}
