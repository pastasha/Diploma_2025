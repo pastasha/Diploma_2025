{
 "cells": [
  {
   "cell_type": "code",
   "execution_count": 8,
   "metadata": {},
   "outputs": [],
   "source": [
    "import numpy as np\n",
    "import pandas as pd\n",
    "from sklearn.preprocessing import LabelEncoder, MinMaxScaler\n",
    "from tensorflow.keras.models import load_model"
   ]
  },
  {
   "cell_type": "code",
   "execution_count": 9,
   "metadata": {},
   "outputs": [],
   "source": [
    "kerasModels = {\n",
    "    'mlp': 'serialized/keras/mlpModel.keras',\n",
    "    'lstm': 'serialized/keras/lstmModel.keras',\n",
    "    'dnn': 'serialized/keras/dnnModel.keras'\n",
    "}\n",
    "\n",
    "# Loading a serialized model\n",
    "model = load_model(kerasModels['dnn'])"
   ]
  },
  {
   "cell_type": "code",
   "execution_count": 10,
   "metadata": {},
   "outputs": [],
   "source": [
    "# New dataset for forecasting\n",
    "data = {\n",
    "    'Location': [\"Bengaluru\", \"ITO, Delhi\", \"New Ind Town, Faridabad\"],\n",
    "    'Year': [2023, 2023, 2022],\n",
    "    'Month': [2, 2, 10],\n",
    "    'Day': [23, 22, 2],\n",
    "    'Hour': [8, 14, 10],\n",
    "    'PM2.5': [43, 500, 185],\n",
    "    'PM10': [78, 480, 199],\n",
    "    'O3': [26, 91, 10],\n",
    "    'CO': [258, 78, 52],\n",
    "    'SO2': [10, 17, 12],\n",
    "    'NO2': [17, 47, 26]\n",
    "}\n",
    "new_data = pd.DataFrame(data)\n",
    "data = pd.DataFrame(data)\n",
    "new_data = data[['Location', 'Day', 'Hour', 'PM2.5', 'PM10', 'O3', 'CO', 'SO2', 'NO2']].copy()"
   ]
  },
  {
   "cell_type": "code",
   "execution_count": 11,
   "metadata": {},
   "outputs": [],
   "source": [
    "# Label encoding\n",
    "le = LabelEncoder()\n",
    "new_data['Location'] = le.fit_transform(new_data['Location'])\n",
    "new_data['Hour'] = le.fit_transform(new_data['Hour'])\n",
    "\n",
    "# Data pre-processing\n",
    "new_data.fillna(new_data.mean(), inplace=True)\n",
    "\n",
    "# Convert hours to numeric format\n",
    "new_data['Hour'] = new_data['Hour'].astype(str).str.split(\":\").str[0].astype(int)\n",
    "\n",
    "# Feature selection\n",
    "X_new = new_data[['Location','Day', 'Hour', 'PM2.5', 'PM10', 'O3', 'CO', 'SO2', 'NO2']]"
   ]
  },
  {
   "cell_type": "code",
   "execution_count": 12,
   "metadata": {},
   "outputs": [],
   "source": [
    "# Data scaling (use the same scaler as during training)\n",
    "scaler = MinMaxScaler()\n",
    "X_new_scaled = scaler.fit_transform(X_new)\n",
    "\n",
    "# Transformation for LSTM (add dimension for time series)\n",
    "X_new_scaled = np.expand_dims(X_new_scaled, axis=2)"
   ]
  },
  {
   "cell_type": "code",
   "execution_count": 13,
   "metadata": {},
   "outputs": [
    {
     "name": "stdout",
     "output_type": "stream",
     "text": [
      "\u001b[1m1/1\u001b[0m \u001b[32m━━━━━━━━━━━━━━━━━━━━\u001b[0m\u001b[37m\u001b[0m \u001b[1m0s\u001b[0m 65ms/step\n",
      "[[9.9586594e-01 1.0178132e-04 4.0323571e-03 9.7550501e-10 1.1250074e-09\n",
      "  1.8824392e-15]\n",
      " [1.5045563e-14 5.6696251e-16 2.1671427e-04 5.6307808e-10 9.9963081e-01\n",
      "  1.5237476e-04]\n",
      " [4.5334447e-05 2.2126244e-04 8.4819980e-03 9.8548317e-01 1.2745372e-03\n",
      "  4.4938005e-03]]\n"
     ]
    }
   ],
   "source": [
    "# Prognostication\n",
    "predictions = model.predict(X_new_scaled)\n",
    "\n",
    "print(predictions)"
   ]
  },
  {
   "cell_type": "code",
   "execution_count": 14,
   "metadata": {},
   "outputs": [
    {
     "name": "stdout",
     "output_type": "stream",
     "text": [
      "Input data:\n",
      "   Location  Day  Hour  PM2.5  PM10  O3   CO  SO2  NO2\n",
      "0         0   23     0     43    78  26  258   10   17\n",
      "1         1   22     2    500   480  91   78   17   47\n",
      "2         2    2     1    185   199  10   52   12   26\n",
      "\n",
      "Probabilities for each class:\n",
      "[[9.9586594e-01 1.0178132e-04 4.0323571e-03 9.7550501e-10 1.1250074e-09\n",
      "  1.8824392e-15]\n",
      " [1.5045563e-14 5.6696251e-16 2.1671427e-04 5.6307808e-10 9.9963081e-01\n",
      "  1.5237476e-04]\n",
      " [4.5334447e-05 2.2126244e-04 8.4819980e-03 9.8548317e-01 1.2745372e-03\n",
      "  4.4938005e-03]]\n",
      "\n",
      "Predicted classes:\n",
      "[0 4 3]\n",
      "\n",
      "Predicted categories:\n",
      "['Good', 'Very Unhealthy', 'Unhealthy']\n"
     ]
    }
   ],
   "source": [
    "# Decoding of forecasts (classes)\n",
    "predicted_classes = np.argmax(predictions, axis=1)\n",
    "\n",
    "# Displaying categories\n",
    "category_mapping = {\n",
    "    '0': 'Good',\n",
    "    '1': 'Moderate',\n",
    "    '2': 'USG', \n",
    "    '3': 'Unhealthy',\n",
    "    '4': 'Very Unhealthy',\n",
    "    '5': 'Severe'\n",
    "}\n",
    "predicted_categories = [category_mapping[str(cls)] for cls in predicted_classes]\n",
    "\n",
    "print(\"Input data:\")\n",
    "print(X_new)\n",
    "print(\"\\nProbabilities for each class:\")\n",
    "print(predictions)\n",
    "print(\"\\nPredicted classes:\")\n",
    "print(predicted_classes)\n",
    "print(\"\\nPredicted categories:\")\n",
    "print(predicted_categories)"
   ]
  }
 ],
 "metadata": {
  "kernelspec": {
   "display_name": "3.11.0",
   "language": "python",
   "name": "python3"
  },
  "language_info": {
   "codemirror_mode": {
    "name": "ipython",
    "version": 3
   },
   "file_extension": ".py",
   "mimetype": "text/x-python",
   "name": "python",
   "nbconvert_exporter": "python",
   "pygments_lexer": "ipython3",
   "version": "3.11.0"
  }
 },
 "nbformat": 4,
 "nbformat_minor": 2
}
